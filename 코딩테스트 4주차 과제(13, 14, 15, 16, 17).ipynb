{
 "cells": [
  {
   "cell_type": "code",
   "execution_count": 1,
   "metadata": {},
   "outputs": [],
   "source": [
    "from typing import *"
   ]
  },
  {
   "cell_type": "code",
   "execution_count": 2,
   "metadata": {},
   "outputs": [],
   "source": [
    "class ListNode:\n",
    "    def __init__(self,  val = 0, next = None):\n",
    "        self.val = val\n",
    "        self.next = next"
   ]
  },
  {
   "cell_type": "markdown",
   "metadata": {},
   "source": [
    "# Q14. 두 정렬 리스트의 병합\n",
    "## 정렬되어 있는 두 연결 리스트를 합쳐라."
   ]
  },
  {
   "cell_type": "code",
   "execution_count": 3,
   "metadata": {},
   "outputs": [],
   "source": [
    "def mergeTwoLists(l1: ListNode, l2: ListNode) -> ListNode:\n",
    "    lst1, lst2 = [], []\n",
    "    while l1:\n",
    "        lst1.append(l1.val)\n",
    "        l1 = l1.next4\n",
    "        \n",
    "    while l2:\n",
    "        lst2.append(l2.val)\n",
    "        l2 = l2.next\n",
    "    lst = lst1 + lst2\n",
    "    lst.sort()\n",
    "    \n",
    "    if not lst:\n",
    "        return None\n",
    "    \n",
    "    head = ListNode(lst[0])\n",
    "    node = head\n",
    "    for i in lst[1:]:\n",
    "        node.next = ListNode(i)\n",
    "        node = node.next\n",
    "        \n",
    "    return head"
   ]
  },
  {
   "cell_type": "markdown",
   "metadata": {},
   "source": [
    "### 파이썬 알고리즘 인터뷰 풀이 (1) - 재귀 구조로 연결"
   ]
  },
  {
   "cell_type": "code",
   "execution_count": 4,
   "metadata": {},
   "outputs": [],
   "source": [
    "def mergeTwoLists(self, l1: ListNode, l2:ListNode) -> ListNode:\n",
    "    if (not l1) or (l2 and l1.val > l2.val):\n",
    "        l1, l2 = l2, l1\n",
    "    if l1:\n",
    "        l1.next = self.mergeTwoLists(l1.next, l2)\n",
    "    return l1"
   ]
  },
  {
   "cell_type": "markdown",
   "metadata": {},
   "source": [
    "# Q15. 역순 연결 리스트\n",
    "## 연결 리스트를 뒤집어라."
   ]
  },
  {
   "cell_type": "code",
   "execution_count": 5,
   "metadata": {},
   "outputs": [],
   "source": [
    "def reverseList(head:ListNode) -> ListNode:\n",
    "    lst = []\n",
    "    \n",
    "    node = head\n",
    "    while node:\n",
    "        lst.append(node.val)\n",
    "        node = node.next\n",
    "    lst = lst[::-1]\n",
    "    \n",
    "    if not lst:\n",
    "        return None\n",
    "    \n",
    "    rev = ListNode(lst[0])\n",
    "    rev_node = rev\n",
    "    for i in lst[1:]:\n",
    "        rev_node.next = ListNode(i)\n",
    "        rev_node = rev_node.next\n",
    "        \n",
    "    return rev"
   ]
  },
  {
   "cell_type": "markdown",
   "metadata": {},
   "source": [
    "### 파이썬 알고리즘 인터뷰 풀이 (1) - 재귀 구조로 뒤집기"
   ]
  },
  {
   "cell_type": "code",
   "execution_count": 6,
   "metadata": {},
   "outputs": [],
   "source": [
    "def reverseList(self, head:ListNode) -> ListNode:\n",
    "    def reverse(node:ListNode, prev:ListNode = None):\n",
    "        if not node:\n",
    "            return prev\n",
    "        next, node.next = node.next, prev\n",
    "        return reverse(next, node)\n",
    "    return reverse(head)"
   ]
  },
  {
   "cell_type": "markdown",
   "metadata": {},
   "source": [
    "### 파이썬 알고리즘 인터뷰 풀이 (2) - 반복 구조로 뒤집기"
   ]
  },
  {
   "cell_type": "code",
   "execution_count": 7,
   "metadata": {},
   "outputs": [],
   "source": [
    "def reverseList(self, head: ListNode) -> ListNode:\n",
    "    node, prev = head, None\n",
    "    \n",
    "    while node:\n",
    "        next, node.next = node.next, prev\n",
    "        prev, node = node, next\n",
    "        \n",
    "    return prev"
   ]
  },
  {
   "cell_type": "markdown",
   "metadata": {},
   "source": [
    "# Q16. 두 수의 덧셈\n",
    "## 역순으로 저장된 연결 리스트의 숫자를 더하라."
   ]
  },
  {
   "cell_type": "code",
   "execution_count": 8,
   "metadata": {},
   "outputs": [],
   "source": [
    "class Solution:\n",
    "    def reverseList(self, head:ListNode) -> List:\n",
    "        lst = []\n",
    "        \n",
    "        node = head\n",
    "        while node:\n",
    "            lst.append(node.val)\n",
    "            node = node.next\n",
    "            \n",
    "        return lst[::-1]\n",
    "    \n",
    "    def addTwoNumbers(self, l1:ListNode, l2:ListNode) -> ListNode:\n",
    "        rev1 = self.reverseList(l1)\n",
    "        rev2 = self.reverseList(l2)\n",
    "        \n",
    "        result = str(int(''.join(str(i) for i in rev1)) + int(''.join(str(i) for i in rev2)))\n",
    "        \n",
    "        if not result:\n",
    "            return None\n",
    "        \n",
    "        result = result[::-1]\n",
    "        \n",
    "        head = ListNode(result[0])\n",
    "        node = head\n",
    "        for i in result[1:]:\n",
    "            node.next = ListNode(i)\n",
    "            node = node.next\n",
    "            \n",
    "        return head"
   ]
  },
  {
   "cell_type": "markdown",
   "metadata": {},
   "source": [
    "### 파이썬 알고리즘 인터뷰 풀이 (1) - 자료형 변환"
   ]
  },
  {
   "cell_type": "code",
   "execution_count": 9,
   "metadata": {},
   "outputs": [],
   "source": [
    "class Solution:\n",
    "    # 연결 리스트 뒤집기\n",
    "    def reverseList(self, head:ListNode) -> ListNode:\n",
    "        node, prev = head, None\n",
    "        \n",
    "        while node:\n",
    "            next, node.next = node.next, prev\n",
    "            prev, node = node, next\n",
    "            \n",
    "        return prev\n",
    "    \n",
    "    # 연결 리스트를 파이썬 리스트로 변환\n",
    "    def toList(self, node: ListNode) -> ListNode:\n",
    "        list: List = []\n",
    "        while node:\n",
    "            list.append(node.val)\n",
    "            node = node.next\n",
    "        return list\n",
    "    \n",
    "    # 파이썬 리스트를 연결 리스트로 변혼\n",
    "    def toReversedLinkedList(self, result:ListNode) -> ListNode:\n",
    "        prev: ListNode = None\n",
    "        for r in result:\n",
    "            node = ListNode(r)\n",
    "            node.next = prev\n",
    "            prev = node\n",
    "        return node\n",
    "    \n",
    "    # 두 연결 리스트의 덧셈\n",
    "    def addTwoNumbers(Self, l1:ListNode, l2:ListNode) -> ListNode:\n",
    "        a = self.toList(self.reverseList(l1))\n",
    "        b = self.toList(self.reverseList(l2))\n",
    "        \n",
    "        resultStr = int(''.join(str(e) for e in a)) + \\\n",
    "                    int(''.join(str(e) for e in b))\n",
    "\n",
    "\n",
    "        \n",
    "        # 최종 계산 결과 연결 리스트 변환\n",
    "        return self.toReversedLinkedList(str(resultStr))\n",
    "        "
   ]
  },
  {
   "cell_type": "markdown",
   "metadata": {},
   "source": [
    "### 파이썬 알고리즘 인터뷰 풀이 (2) - 전가산기 구현"
   ]
  },
  {
   "cell_type": "code",
   "execution_count": 10,
   "metadata": {},
   "outputs": [],
   "source": [
    "def addTwoNumbers(self, l1:ListNode, l2:ListNode) -> ListNode:\n",
    "    root = head = ListNode(0)\n",
    "    \n",
    "    carry = 0\n",
    "    while l1 or l2 or carry:\n",
    "        sum = 0\n",
    "        # 두 입력값의 합 계산\n",
    "        if l1:\n",
    "            sum += l1.val\n",
    "            l1 = l1.next\n",
    "            \n",
    "        if l2:\n",
    "            sum += l2.val\n",
    "            l2 = l2.next\n",
    "        \n",
    "        # 몫(자리올림수)과 나머지(값) 계산\n",
    "        carry, val = divmod(sum + carry, 10)\n",
    "        head.next = ListNode(val)\n",
    "        head = head.next\n",
    "    return root.next"
   ]
  }
 ],
 "metadata": {
  "kernelspec": {
   "display_name": "Python 3",
   "language": "python",
   "name": "python3"
  },
  "language_info": {
   "codemirror_mode": {
    "name": "ipython",
    "version": 3
   },
   "file_extension": ".py",
   "mimetype": "text/x-python",
   "name": "python",
   "nbconvert_exporter": "python",
   "pygments_lexer": "ipython3",
   "version": "3.8.5"
  }
 },
 "nbformat": 4,
 "nbformat_minor": 4
}
