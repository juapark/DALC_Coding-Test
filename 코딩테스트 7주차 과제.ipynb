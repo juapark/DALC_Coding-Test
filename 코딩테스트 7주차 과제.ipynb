{
 "cells": [
  {
   "cell_type": "markdown",
   "metadata": {},
   "source": [
    "# 29번) 보석과 돌\n",
    "### J는 보석이며, S는 갖고 있는 돌이다. S에는 보석이 몇 개나 있을까? 대소문자는 구분한다."
   ]
  },
  {
   "cell_type": "markdown",
   "metadata": {},
   "source": [
    "### 풀이1) 해시 테이블을 이용한 풀이"
   ]
  },
  {
   "cell_type": "code",
   "execution_count": 1,
   "metadata": {},
   "outputs": [],
   "source": [
    "def numJewelsInStones(self, J: str, S: str) -> int:\n",
    "    freqs = {}\n",
    "    count = 0\n",
    "    \n",
    "    #돌(S)의 빈도 수 계산\n",
    "    for char in S:\n",
    "        if char not in freqs:\n",
    "            freqs[char] = 1\n",
    "        else:\n",
    "            freqs[char] += 1\n",
    "            \n",
    "    #보석(J)의 빈도 수 합산\n",
    "    for char in J:\n",
    "        if char in freqs:\n",
    "            count += freqs[char]\n",
    "            \n",
    "    return count"
   ]
  },
  {
   "cell_type": "markdown",
   "metadata": {},
   "source": [
    "### 풀이2) defaultdict를 이용한 비교 생략"
   ]
  },
  {
   "cell_type": "code",
   "execution_count": 2,
   "metadata": {},
   "outputs": [],
   "source": [
    "def numJewelsInStones(self, J: str, S: str) -> int:\n",
    "    freqs = collections.defaultdict(int)\n",
    "    count = 0\n",
    "    \n",
    "    #비교 없이 돌(S) 빈도 수 계산\n",
    "    for char in S:\n",
    "        freqs[char] += 1\n",
    "        \n",
    "    # 비교 없이 보석(J) 빈도 수 합산\n",
    "    for char in J:\n",
    "        count += freqs[char]\n",
    "        \n",
    "    return count"
   ]
  },
  {
   "cell_type": "markdown",
   "metadata": {},
   "source": [
    "### 풀이3) Counter로 계산 생략"
   ]
  },
  {
   "cell_type": "code",
   "execution_count": 3,
   "metadata": {},
   "outputs": [],
   "source": [
    "def numJewelsInStones(self, J: str, S: str) -> int:\n",
    "    freqs = collections.Counter(S)\n",
    "    count = 0\n",
    "    \n",
    "    # 비교 없이 보석(J) 빈도 수 합산\n",
    "    for char in J:\n",
    "        count += freqs[char]\n",
    "        \n",
    "    return count"
   ]
  },
  {
   "cell_type": "markdown",
   "metadata": {},
   "source": [
    "### 풀이4) 파이썬다운 방식"
   ]
  },
  {
   "cell_type": "code",
   "execution_count": 4,
   "metadata": {},
   "outputs": [],
   "source": [
    "def numJewelsInStones(self, J: str, S: str) -> int:\n",
    "    return sum(s in J for s in S)"
   ]
  },
  {
   "cell_type": "markdown",
   "metadata": {},
   "source": [
    "# 30번) 중복 문자 없는 가장 긴 부분 문자열\n",
    "### 중복 문자가 없는 가장 긴 부분 문자열의 길이를 리턴하라."
   ]
  },
  {
   "cell_type": "markdown",
   "metadata": {},
   "source": [
    "### 풀이1) 슬라이딩 윈도우와 투 포인터로 사이즈 조절"
   ]
  },
  {
   "cell_type": "code",
   "execution_count": 5,
   "metadata": {},
   "outputs": [],
   "source": [
    "def lengthOfLongestSubstring(self, s: str) -> int:\n",
    "    used = {}\n",
    "    max_length = start = 0\n",
    "    for index, char in enumerate(s):\n",
    "        #이미 등장했던 문자라면 'start' 위치 갱신\n",
    "        if char in used and start <= used[char]:\n",
    "            start = used[char] + 1\n",
    "        else: # 최대 부분 문자열 길이 갱신\n",
    "            max_length = max(max_length, index - start + 1)\n",
    "            \n",
    "        #현재 문자의 위치 삽입\n",
    "        used[char] = index\n",
    "        \n",
    "    return max_length"
   ]
  },
  {
   "cell_type": "markdown",
   "metadata": {},
   "source": [
    "# 31번) 상위 K 빈도 요소\n",
    "### K번 이상 등장하는 요소를 추출하라."
   ]
  },
  {
   "cell_type": "markdown",
   "metadata": {},
   "source": [
    "### 풀이1) Counter를 이용한 음수 순 추출"
   ]
  },
  {
   "cell_type": "code",
   "execution_count": 6,
   "metadata": {},
   "outputs": [
    {
     "ename": "NameError",
     "evalue": "name 'List' is not defined",
     "output_type": "error",
     "traceback": [
      "\u001b[1;31m---------------------------------------------------------------------------\u001b[0m",
      "\u001b[1;31mNameError\u001b[0m                                 Traceback (most recent call last)",
      "\u001b[1;32m<ipython-input-6-096fa12ac360>\u001b[0m in \u001b[0;36m<module>\u001b[1;34m\u001b[0m\n\u001b[1;32m----> 1\u001b[1;33m \u001b[1;32mdef\u001b[0m \u001b[0mtopFrequent\u001b[0m\u001b[1;33m(\u001b[0m\u001b[0mself\u001b[0m\u001b[1;33m,\u001b[0m \u001b[0mnums\u001b[0m\u001b[1;33m:\u001b[0m \u001b[0mList\u001b[0m\u001b[1;33m[\u001b[0m\u001b[0mint\u001b[0m\u001b[1;33m]\u001b[0m\u001b[1;33m,\u001b[0m \u001b[0mk\u001b[0m\u001b[1;33m:\u001b[0m \u001b[0mint\u001b[0m\u001b[1;33m)\u001b[0m \u001b[1;33m->\u001b[0m \u001b[0mList\u001b[0m\u001b[1;33m[\u001b[0m\u001b[0mint\u001b[0m\u001b[1;33m]\u001b[0m\u001b[1;33m:\u001b[0m\u001b[1;33m\u001b[0m\u001b[1;33m\u001b[0m\u001b[0m\n\u001b[0m\u001b[0;32m      2\u001b[0m     \u001b[0mfreqs\u001b[0m \u001b[1;33m=\u001b[0m \u001b[0mcollections\u001b[0m\u001b[1;33m.\u001b[0m\u001b[0mCounter\u001b[0m\u001b[1;33m(\u001b[0m\u001b[0mnums\u001b[0m\u001b[1;33m)\u001b[0m\u001b[1;33m\u001b[0m\u001b[1;33m\u001b[0m\u001b[0m\n\u001b[0;32m      3\u001b[0m     \u001b[0mfreqs_heap\u001b[0m \u001b[1;33m=\u001b[0m \u001b[1;33m[\u001b[0m\u001b[1;33m]\u001b[0m\u001b[1;33m\u001b[0m\u001b[1;33m\u001b[0m\u001b[0m\n\u001b[0;32m      4\u001b[0m     \u001b[1;31m# 힙에 음수로 삽입\u001b[0m\u001b[1;33m\u001b[0m\u001b[1;33m\u001b[0m\u001b[1;33m\u001b[0m\u001b[0m\n\u001b[0;32m      5\u001b[0m     \u001b[1;32mfor\u001b[0m \u001b[0mf\u001b[0m \u001b[1;32min\u001b[0m \u001b[0mfreqs\u001b[0m\u001b[1;33m:\u001b[0m\u001b[1;33m\u001b[0m\u001b[1;33m\u001b[0m\u001b[0m\n",
      "\u001b[1;31mNameError\u001b[0m: name 'List' is not defined"
     ]
    }
   ],
   "source": [
    "def topFrequent(self, nums: List[int], k: int) -> List[int]:\n",
    "    freqs = collections.Counter(nums)\n",
    "    freqs_heap = []\n",
    "    # 힙에 음수로 삽입\n",
    "    for f in freqs:\n",
    "        heaps.heappush(freqs_heap, (-freqs[f],f))\n",
    "        \n",
    "    topk = list()\n",
    "    # k번 만큼 추출, 최소 힙(Min Heap)이므로 가장 작은 음수 순으로 추출\n",
    "    for _ in range(k):\n",
    "        topk.append(heapq.heappop(freq_heap)[1])\n",
    "    \n",
    "    return topk"
   ]
  },
  {
   "cell_type": "markdown",
   "metadata": {},
   "source": [
    "### 풀이2) 파이썬다운 방식"
   ]
  },
  {
   "cell_type": "code",
   "execution_count": 7,
   "metadata": {},
   "outputs": [],
   "source": [
    "def topKFrequent(self, nums, k):\n",
    "    return list(zip(*collections.Counter(nums).most_common(k)))[0]"
   ]
  }
 ],
 "metadata": {
  "kernelspec": {
   "display_name": "Python 3",
   "language": "python",
   "name": "python3"
  },
  "language_info": {
   "codemirror_mode": {
    "name": "ipython",
    "version": 3
   },
   "file_extension": ".py",
   "mimetype": "text/x-python",
   "name": "python",
   "nbconvert_exporter": "python",
   "pygments_lexer": "ipython3",
   "version": "3.8.5"
  }
 },
 "nbformat": 4,
 "nbformat_minor": 4
}
