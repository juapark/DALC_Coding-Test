{
 "cells": [
  {
   "cell_type": "markdown",
   "metadata": {},
   "source": [
    "# 23번) 큐를 이용한 스택 구현"
   ]
  },
  {
   "cell_type": "markdown",
   "metadata": {},
   "source": [
    "## 풀이1) push()할 때 큐를 이용해 재정렬"
   ]
  },
  {
   "cell_type": "code",
   "execution_count": 1,
   "metadata": {},
   "outputs": [],
   "source": [
    "class MyStack:\n",
    "    def __init__(self):\n",
    "        self.q = collections.deque()\n",
    "        \n",
    "    def push(self, x):\n",
    "        self.q.append(x)\n",
    "        #요소 삽입 후 맨 앞에 두는 상태로 재정렬\n",
    "        for _ in range(len(self.q) - 1):\n",
    "            self.q.append(self.q.popleft())\n",
    "            \n",
    "    def pop(self):\n",
    "        return self.q.popleft()\n",
    "    \n",
    "    def top(self):\n",
    "        return self.q[0]\n",
    "    \n",
    "    def empty(self):\n",
    "        return len(self.q) == 0"
   ]
  },
  {
   "cell_type": "markdown",
   "metadata": {},
   "source": [
    "# 24번) 스택을 이용한 큐 구현"
   ]
  },
  {
   "cell_type": "markdown",
   "metadata": {},
   "source": [
    "## 풀이1) 스택 2개 사용"
   ]
  },
  {
   "cell_type": "code",
   "execution_count": 2,
   "metadata": {},
   "outputs": [],
   "source": [
    "class MyQueue:\n",
    "    def __init__(self):\n",
    "        self.input = []\n",
    "        self.output = []\n",
    "        \n",
    "    def push(self, x):\n",
    "        self.input.append(x)\n",
    "        \n",
    "    def pop(self):\n",
    "        self.peek()\n",
    "        return self.output.pop()\n",
    "    \n",
    "    def peek(self):\n",
    "        # output이 없으면 모두 재입력\n",
    "        if not self.output:\n",
    "            while self.input:\n",
    "                self.output.append(self.input.pop())\n",
    "        return self.output[-1]\n",
    "\n",
    "    def empty(self):\n",
    "        return self.input == [] and self.output ==[]"
   ]
  },
  {
   "cell_type": "markdown",
   "metadata": {},
   "source": [
    "# 25번) 원형 큐 디자인"
   ]
  },
  {
   "cell_type": "markdown",
   "metadata": {},
   "source": [
    "## 풀이1) 배열을 이용한 풀이"
   ]
  },
  {
   "cell_type": "code",
   "execution_count": 3,
   "metadata": {},
   "outputs": [],
   "source": [
    "class MyCircularQueue:\n",
    "    def __init__(self, k: int):\n",
    "        self.q = [None] * k\n",
    "        self.maxlen = k\n",
    "        self.p1 = 0\n",
    "        self.p2 = 0\n",
    "        \n",
    "    # enQueue() : rear 포인터 이동\n",
    "    def enQueue(self, value: int) -> bool:\n",
    "        if self.q[self.p2] is None:\n",
    "            self.q[self.p2] = value\n",
    "            self.p2 = (self.p2 + 1) % self.maxlen\n",
    "            return True\n",
    "        \n",
    "        else:\n",
    "            return False\n",
    "        \n",
    "    # deQueue(): front 포인터 이동\n",
    "    def deQueue(self) -> bool:\n",
    "        if self.q[self.p1] is None:\n",
    "            return False\n",
    "        else:\n",
    "            self.q[self.p1] = None\n",
    "            self.p1 = (self.p1 + 1) % self.maxlen\n",
    "            return True\n",
    "        \n",
    "    def Front(self) -> int:\n",
    "        return -1 if self.q[self.p1] is None else self.q[self.p2 - 1]\n",
    "    \n",
    "    def Rear(self) -> int:\n",
    "        return -1 if self.q[self.p2 - 1] is None else self.q[self.p1]\n",
    "    \n",
    "    def isEmpty(self) -> bool:\n",
    "        return self.p1 == self.p2 and self.q[self.p1] is None\n",
    "    \n",
    "    def isFull(self) -> bool:\n",
    "        return self.p1 == self.p2 and self.q[self.p1] is  not None \n",
    "    \n",
    "    "
   ]
  }
 ],
 "metadata": {
  "kernelspec": {
   "display_name": "Python 3",
   "language": "python",
   "name": "python3"
  },
  "language_info": {
   "codemirror_mode": {
    "name": "ipython",
    "version": 3
   },
   "file_extension": ".py",
   "mimetype": "text/x-python",
   "name": "python",
   "nbconvert_exporter": "python",
   "pygments_lexer": "ipython3",
   "version": "3.8.5"
  }
 },
 "nbformat": 4,
 "nbformat_minor": 4
}
